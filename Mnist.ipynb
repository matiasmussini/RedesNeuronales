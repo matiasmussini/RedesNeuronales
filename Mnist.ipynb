{
  "cells": [
    {
      "cell_type": "code",
      "execution_count": 34,
      "metadata": {
        "id": "WDhRMvHgqjpW"
      },
      "outputs": [],
      "source": [
        "import tensorflow as tf\n",
        "import numpy as np\n",
        "import matplotlib.pyplot as plt"
      ]
    },
    {
      "cell_type": "code",
      "execution_count": 35,
      "metadata": {
        "colab": {
          "base_uri": "https://localhost:8080/",
          "height": 35
        },
        "id": "AKX4PXGTrxHr",
        "outputId": "e08176f8-4dfb-4a5c-dafd-e304ce9eb00e"
      },
      "outputs": [
        {
          "data": {
            "application/vnd.google.colaboratory.intrinsic+json": {
              "type": "string"
            },
            "text/plain": [
              "'2.9.2'"
            ]
          },
          "execution_count": 35,
          "metadata": {},
          "output_type": "execute_result"
        }
      ],
      "source": [
        "tf.__version__"
      ]
    },
    {
      "cell_type": "code",
      "execution_count": 36,
      "metadata": {
        "id": "4MpxFV_rsQSV"
      },
      "outputs": [],
      "source": [
        "(x_tr, y_tr), (x_test, y_test) = tf.keras.datasets.mnist.load_data()"
      ]
    },
    {
      "cell_type": "code",
      "execution_count": 37,
      "metadata": {
        "colab": {
          "base_uri": "https://localhost:8080/",
          "height": 282
        },
        "id": "9rWIpvszsnyx",
        "outputId": "70d1c7e9-47b9-4a0c-9ed6-8aa41d622f33"
      },
      "outputs": [
        {
          "name": "stdout",
          "output_type": "stream",
          "text": [
            "9\n"
          ]
        },
        {
          "data": {
            "image/png": "[encoded data removed]",
            "text/plain": [
              "<Figure size 432x288 with 1 Axes>"
            ]
          },
          "metadata": {
            "needs_background": "light"
          },
          "output_type": "display_data"
        }
      ],
      "source": [
        "idx = 19\n",
        "plt.imshow(x_tr[idx], cmap='gray')\n",
        "print(y_tr[idx])"
      ]
    },
    {
      "cell_type": "code",
      "execution_count": 21,
      "metadata": {
        "colab": {
          "base_uri": "https://localhost:8080/"
        },
        "id": "_4oDdi3KwcvP",
        "outputId": "36857ba8-4878-4368-9783-7937b6302010"
      },
      "outputs": [
        {
          "data": {
            "text/plain": [
              "array([5, 0, 4, ..., 5, 6, 8], dtype=uint8)"
            ]
          },
          "execution_count": 21,
          "metadata": {},
          "output_type": "execute_result"
        }
      ],
      "source": [
        "y_tr"
      ]
    },
    {
      "cell_type": "code",
      "execution_count": 16,
      "metadata": {
        "id": "x5V_8BkLs0Im"
      },
      "outputs": [],
      "source": [
        "model = tf.keras.models.Sequential()"
      ]
    },
    {
      "cell_type": "code",
      "execution_count": 18,
      "metadata": {
        "id": "U6ryr52TtxLR"
      },
      "outputs": [],
      "source": [
        "model.add(tf.keras.layers.Flatten(input_shape=(28, 28)))\n",
        "model.add(tf.keras.layers.Dense(100, activation='relu'))\n",
        "model.add(tf.keras.layers.Dense(10, activation='softmax'))"
      ]
    },
    {
      "cell_type": "code",
      "execution_count": 19,
      "metadata": {
        "colab": {
          "base_uri": "https://localhost:8080/"
        },
        "id": "JlYWn06WunMG",
        "outputId": "b5a2f211-d9ab-4fa9-cb56-67c192b6aae3"
      },
      "outputs": [
        {
          "name": "stdout",
          "output_type": "stream",
          "text": [
            "Model: \"sequential\"\n",
            "_________________________________________________________________\n",
            " Layer (type)                Output Shape              Param #   \n",
            "=================================================================\n",
            " flatten (Flatten)           (None, 784)               0         \n",
            "                                                                 \n",
            " dense (Dense)               (None, 100)               78500     \n",
            "                                                                 \n",
            " dense_1 (Dense)             (None, 10)                1010      \n",
            "                                                                 \n",
            "=================================================================\n",
            "Total params: 79,510\n",
            "Trainable params: 79,510\n",
            "Non-trainable params: 0\n",
            "_________________________________________________________________\n"
          ]
        }
      ],
      "source": [
        "model.summary()"
      ]
    },
    {
      "cell_type": "code",
      "execution_count": 22,
      "metadata": {
        "id": "qKIH_FdkuoQu"
      },
      "outputs": [],
      "source": [
        "loss_fn = tf.keras.losses.SparseCategoricalCrossentropy(from_logits=False)"
      ]
    },
    {
      "cell_type": "code",
      "execution_count": 23,
      "metadata": {
        "id": "Uiqi_9Yfv6jP"
      },
      "outputs": [],
      "source": [
        "model.compile(optimizer='adam', loss=loss_fn, metrics=['accuracy'])"
      ]
    },
    {
      "cell_type": "code",
      "execution_count": 24,
      "metadata": {
        "colab": {
          "base_uri": "https://localhost:8080/"
        },
        "id": "_OvLZvnqxe2U",
        "outputId": "4a45adf4-ddff-47cb-a02b-2d8f42b656a7"
      },
      "outputs": [
        {
          "name": "stdout",
          "output_type": "stream",
          "text": [
            "Epoch 1/10\n",
            "1594/1594 [==============================] - 7s 3ms/step - loss: 2.6004 - accuracy: 0.8161 - val_loss: 0.5418 - val_accuracy: 0.8906\n",
            "Epoch 2/10\n",
            "1594/1594 [==============================] - 4s 3ms/step - loss: 0.4683 - accuracy: 0.8907 - val_loss: 0.3667 - val_accuracy: 0.9121\n",
            "Epoch 3/10\n",
            "1594/1594 [==============================] - 4s 3ms/step - loss: 0.3521 - accuracy: 0.9122 - val_loss: 0.3184 - val_accuracy: 0.9224\n",
            "Epoch 4/10\n",
            "1594/1594 [==============================] - 4s 3ms/step - loss: 0.2929 - accuracy: 0.9248 - val_loss: 0.3096 - val_accuracy: 0.9323\n",
            "Epoch 5/10\n",
            "1594/1594 [==============================] - 4s 3ms/step - loss: 0.2587 - accuracy: 0.9327 - val_loss: 0.2636 - val_accuracy: 0.9384\n",
            "Epoch 6/10\n",
            "1594/1594 [==============================] - 4s 3ms/step - loss: 0.2360 - accuracy: 0.9394 - val_loss: 0.2545 - val_accuracy: 0.9428\n",
            "Epoch 7/10\n",
            "1594/1594 [==============================] - 4s 3ms/step - loss: 0.2220 - accuracy: 0.9430 - val_loss: 0.2351 - val_accuracy: 0.9449\n",
            "Epoch 8/10\n",
            "1594/1594 [==============================] - 4s 3ms/step - loss: 0.2165 - accuracy: 0.9448 - val_loss: 0.2457 - val_accuracy: 0.9411\n",
            "Epoch 9/10\n",
            "1594/1594 [==============================] - 4s 3ms/step - loss: 0.2044 - accuracy: 0.9472 - val_loss: 0.2440 - val_accuracy: 0.9450\n",
            "Epoch 10/10\n",
            "1594/1594 [==============================] - 4s 3ms/step - loss: 0.1916 - accuracy: 0.9511 - val_loss: 0.2617 - val_accuracy: 0.9487\n"
          ]
        }
      ],
      "source": [
        "history = model.fit(x_tr, y_tr, epochs=10, validation_split=0.15)"
      ]
    },
    {
      "cell_type": "code",
      "execution_count": 25,
      "metadata": {
        "colab": {
          "base_uri": "https://localhost:8080/",
          "height": 282
        },
        "id": "hjdGu13sykQF",
        "outputId": "e7eb3906-dbb8-43e4-efd3-8fd7a2517d0a"
      },
      "outputs": [
        {
          "data": {
            "text/plain": [
              "[<matplotlib.lines.Line2D at 0x7f45c08ba4c0>]"
            ]
          },
          "execution_count": 25,
          "metadata": {},
          "output_type": "execute_result"
        },
        {
          "data": {
            "image/png": "[encoded data removed]",
            "text/plain": [
              "<Figure size 432x288 with 1 Axes>"
            ]
          },
          "metadata": {
            "needs_background": "light"
          },
          "output_type": "display_data"
        }
      ],
      "source": [
        "plt.plot(history.history['accuracy'])\n",
        "plt.plot(history.history['val_accuracy'])"
      ]
    },
    {
      "cell_type": "code",
      "execution_count": 26,
      "metadata": {
        "colab": {
          "base_uri": "https://localhost:8080/",
          "height": 282
        },
        "id": "T3F9s2aYzLZT",
        "outputId": "6a359e87-0df4-44b5-d850-d961f41f8196"
      },
      "outputs": [
        {
          "data": {
            "text/plain": [
              "[<matplotlib.lines.Line2D at 0x7f45c08ec730>]"
            ]
          },
          "execution_count": 26,
          "metadata": {},
          "output_type": "execute_result"
        },
        {
          "data": {
            "image/png": "[encoded data removed]",
            "text/plain": [
              "<Figure size 432x288 with 1 Axes>"
            ]
          },
          "metadata": {
            "needs_background": "light"
          },
          "output_type": "display_data"
        }
      ],
      "source": [
        "plt.plot(history.history['loss'])\n",
        "plt.plot(history.history['val_loss'])"
      ]
    },
    {
      "cell_type": "code",
      "execution_count": 32,
      "metadata": {
        "colab": {
          "base_uri": "https://localhost:8080/"
        },
        "id": "t3BSaTmKzdCP",
        "outputId": "f4e21088-e6ce-42f6-e1ec-0830740264ce"
      },
      "outputs": [
        {
          "name": "stdout",
          "output_type": "stream",
          "text": [
            "1/1 [==============================] - 0s 24ms/step\n",
            "[[2.2349790e-26 1.8932760e-24 0.0000000e+00 1.6897604e-13 1.6457433e-37\n",
            "  1.0000000e+00 3.6157321e-21 2.2752348e-21 2.3710075e-16 5.5911208e-08]]\n",
            "5\n"
          ]
        }
      ],
      "source": [
        "print(model.predict(x_test[356]))\n",
        "print(y_test[356])"
      ]
    },
    {
      "cell_type": "code",
      "execution_count": 33,
      "metadata": {
        "colab": {
          "base_uri": "https://localhost:8080/"
        },
        "id": "QeQAhnT4zyhY",
        "outputId": "40e3d79d-0eaf-4bff-c3ca-469ad96cb153"
      },
      "outputs": [
        {
          "name": "stdout",
          "output_type": "stream",
          "text": [
            "313/313 [==============================] - 1s 3ms/step - loss: 0.3048 - accuracy: 0.9447\n"
          ]
        },
        {
          "data": {
            "text/plain": [
              "[0.30484870076179504, 0.9447000026702881]"
            ]
          },
          "execution_count": 33,
          "metadata": {},
          "output_type": "execute_result"
        }
      ],
      "source": [
        "model.evaluate(x_test, y_test)"
      ]
    },
    {
      "cell_type": "markdown",
      "metadata": {
        "id": "ohGnaxKo0x6I"
      },
      "source": [
        "CONVOLUTIONAL NEURAL NETWORKS"
      ]
    },
    {
      "cell_type": "code",
      "execution_count": 41,
      "metadata": {
        "colab": {
          "base_uri": "https://localhost:8080/"
        },
        "id": "gKyTbw-b-FVF",
        "outputId": "6b7a72ce-d136-41e7-9c15-e6c2fd175a4b"
      },
      "outputs": [
        {
          "data": {
            "text/plain": [
              "(60000, 28, 28)"
            ]
          },
          "execution_count": 41,
          "metadata": {},
          "output_type": "execute_result"
        }
      ],
      "source": [
        "x_tr.shape"
      ]
    },
    {
      "cell_type": "code",
      "execution_count": 42,
      "metadata": {
        "id": "XyGcQG5C-cRf"
      },
      "outputs": [],
      "source": [
        "x_tr = x_tr[..., tf.newaxis].astype(\"float32\")\n",
        "x_test = x_test[..., tf.newaxis].astype(\"float32\")"
      ]
    },
    {
      "cell_type": "code",
      "execution_count": 43,
      "metadata": {
        "colab": {
          "base_uri": "https://localhost:8080/"
        },
        "id": "5Zmisx7V-pMf",
        "outputId": "a259b862-2bab-479a-9ee9-f6397ca5002a"
      },
      "outputs": [
        {
          "data": {
            "text/plain": [
              "(60000, 28, 28, 1)"
            ]
          },
          "execution_count": 43,
          "metadata": {},
          "output_type": "execute_result"
        }
      ],
      "source": [
        "x_tr.shape"
      ]
    },
    {
      "cell_type": "code",
      "execution_count": 44,
      "metadata": {
        "id": "dYFst_0t0-Rc"
      },
      "outputs": [],
      "source": [
        "model_cnn = tf.keras.models.Sequential()\n",
        "model_cnn.add(tf.keras.layers.Conv2D(16, 3, padding='same', activation='relu', input_shape=(28, 28, 1)))\n",
        "model_cnn.add(tf.keras.layers.MaxPool2D())\n",
        "model_cnn.add(tf.keras.layers.Flatten())\n",
        "model_cnn.add(tf.keras.layers.Dense(10, activation='softmax'))"
      ]
    },
    {
      "cell_type": "code",
      "execution_count": 46,
      "metadata": {
        "colab": {
          "base_uri": "https://localhost:8080/"
        },
        "id": "Iqp_BURbA8U4",
        "outputId": "fadd395f-83ac-4dfc-fff6-ddea997207d8"
      },
      "outputs": [
        {
          "name": "stdout",
          "output_type": "stream",
          "text": [
            "Model: \"sequential_1\"\n",
            "_________________________________________________________________\n",
            " Layer (type)                Output Shape              Param #   \n",
            "=================================================================\n",
            " conv2d (Conv2D)             (None, 28, 28, 16)        160       \n",
            "                                                                 \n",
            " max_pooling2d (MaxPooling2D  (None, 14, 14, 16)       0         \n",
            " )                                                               \n",
            "                                                                 \n",
            " flatten_1 (Flatten)         (None, 3136)              0         \n",
            "                                                                 \n",
            " dense_2 (Dense)             (None, 10)                31370     \n",
            "                                                                 \n",
            "=================================================================\n",
            "Total params: 31,530\n",
            "Trainable params: 31,530\n",
            "Non-trainable params: 0\n",
            "_________________________________________________________________\n"
          ]
        }
      ],
      "source": [
        "model_cnn.summary()"
      ]
    },
    {
      "cell_type": "code",
      "execution_count": 49,
      "metadata": {
        "id": "1reOhg7HA-tL"
      },
      "outputs": [],
      "source": [
        "model_cnn.compile(optimizer='adam', loss=loss_fn, metrics=['accuracy'])"
      ]
    },
    {
      "cell_type": "code",
      "execution_count": 50,
      "metadata": {
        "colab": {
          "base_uri": "https://localhost:8080/"
        },
        "id": "wAfXKUQBBMF0",
        "outputId": "39610960-4680-4755-9b91-d55a2ded5cd0"
      },
      "outputs": [
        {
          "name": "stdout",
          "output_type": "stream",
          "text": [
            "Epoch 1/10\n",
            "1594/1594 [==============================] - 11s 3ms/step - loss: 0.6628 - accuracy: 0.9259 - val_loss: 0.1272 - val_accuracy: 0.9659\n",
            "Epoch 2/10\n",
            "1594/1594 [==============================] - 5s 3ms/step - loss: 0.1033 - accuracy: 0.9702 - val_loss: 0.0989 - val_accuracy: 0.9740\n",
            "Epoch 3/10\n",
            "1594/1594 [==============================] - 5s 3ms/step - loss: 0.0793 - accuracy: 0.9759 - val_loss: 0.1280 - val_accuracy: 0.9722\n",
            "Epoch 4/10\n",
            "1594/1594 [==============================] - 5s 3ms/step - loss: 0.0661 - accuracy: 0.9793 - val_loss: 0.1133 - val_accuracy: 0.9721\n",
            "Epoch 5/10\n",
            "1594/1594 [==============================] - 5s 3ms/step - loss: 0.0573 - accuracy: 0.9823 - val_loss: 0.1159 - val_accuracy: 0.9739\n",
            "Epoch 6/10\n",
            "1594/1594 [==============================] - 5s 3ms/step - loss: 0.0485 - accuracy: 0.9849 - val_loss: 0.1403 - val_accuracy: 0.9709\n",
            "Epoch 7/10\n",
            "1594/1594 [==============================] - 5s 3ms/step - loss: 0.0473 - accuracy: 0.9855 - val_loss: 0.1250 - val_accuracy: 0.9758\n",
            "Epoch 8/10\n",
            "1594/1594 [==============================] - 5s 3ms/step - loss: 0.0400 - accuracy: 0.9880 - val_loss: 0.1381 - val_accuracy: 0.9756\n",
            "Epoch 9/10\n",
            "1594/1594 [==============================] - 5s 3ms/step - loss: 0.0384 - accuracy: 0.9886 - val_loss: 0.1596 - val_accuracy: 0.9743\n",
            "Epoch 10/10\n",
            "1594/1594 [==============================] - 5s 3ms/step - loss: 0.0355 - accuracy: 0.9899 - val_loss: 0.1913 - val_accuracy: 0.9748\n"
          ]
        }
      ],
      "source": [
        "history_cnn = model_cnn.fit(x_tr, y_tr, epochs=10, validation_split=0.15)"
      ]
    },
    {
      "cell_type": "code",
      "execution_count": 51,
      "metadata": {
        "colab": {
          "base_uri": "https://localhost:8080/",
          "height": 282
        },
        "id": "Lr7aMf2gBzs7",
        "outputId": "a69036e5-3665-43ba-c919-bd2bee2cb481"
      },
      "outputs": [
        {
          "data": {
            "text/plain": [
              "[<matplotlib.lines.Line2D at 0x7f45c0654250>]"
            ]
          },
          "execution_count": 51,
          "metadata": {},
          "output_type": "execute_result"
        },
        {
          "data": {
            "image/png": "[encoded data removed]",
            "text/plain": [
              "<Figure size 432x288 with 1 Axes>"
            ]
          },
          "metadata": {
            "needs_background": "light"
          },
          "output_type": "display_data"
        }
      ],
      "source": [
        "plt.plot(history_cnn.history['accuracy'])\n",
        "plt.plot(history_cnn.history['val_accuracy'])"
      ]
    },
    {
      "cell_type": "code",
      "execution_count": 53,
      "metadata": {
        "colab": {
          "base_uri": "https://localhost:8080/",
          "height": 282
        },
        "id": "Q4LkJv0ZCJX2",
        "outputId": "ed82bf09-e6f8-4ca8-f8fa-622f82e7ae58"
      },
      "outputs": [
        {
          "data": {
            "text/plain": [
              "[<matplotlib.lines.Line2D at 0x7f45c05d88b0>]"
            ]
          },
          "execution_count": 53,
          "metadata": {},
          "output_type": "execute_result"
        },
        {
          "data": {
            "image/png": "[encoded data removed]",
            "text/plain": [
              "<Figure size 432x288 with 1 Axes>"
            ]
          },
          "metadata": {
            "needs_background": "light"
          },
          "output_type": "display_data"
        }
      ],
      "source": [
        "plt.plot(history_cnn.history['loss'])\n",
        "plt.plot(history_cnn.history['val_loss'])"
      ]
    },
    {
      "cell_type": "code",
      "execution_count": 55,
      "metadata": {
        "colab": {
          "base_uri": "https://localhost:8080/",
          "height": 286
        },
        "id": "kGhu6DNYCUiT",
        "outputId": "826e0cd5-7387-4666-ec6a-5f776a499b56"
      },
      "outputs": [
        {
          "data": {
            "text/plain": [
              "[<matplotlib.lines.Line2D at 0x7f45c057b970>]"
            ]
          },
          "execution_count": 55,
          "metadata": {},
          "output_type": "execute_result"
        },
        {
          "data": {
            "image/png": "[encoded data removed]",
            "text/plain": [
              "<Figure size 432x288 with 1 Axes>"
            ]
          },
          "metadata": {
            "needs_background": "light"
          },
          "output_type": "display_data"
        }
      ],
      "source": [
        "plt.plot(history.history['val_accuracy'])\n",
        "plt.plot(history_cnn.history['val_accuracy'])"
      ]
    },
    {
      "cell_type": "code",
      "execution_count": 62,
      "metadata": {
        "id": "GDEtVt40CeSS"
      },
      "outputs": [],
      "source": [
        "model_cnn2 = tf.keras.models.Sequential()\n",
        "model_cnn2.add(tf.keras.layers.Conv2D(8, 3, padding='same', activation='relu', input_shape=(28, 28, 1)))\n",
        "model_cnn2.add(tf.keras.layers.MaxPool2D())\n",
        "model_cnn2.add(tf.keras.layers.Conv2D(8, 3, padding='same', activation='relu'))\n",
        "model_cnn2.add(tf.keras.layers.MaxPool2D())\n",
        "model_cnn2.add(tf.keras.layers.Flatten())\n",
        "model_cnn2.add(tf.keras.layers.Dense(10, activation='softmax'))"
      ]
    },
    {
      "cell_type": "code",
      "execution_count": 63,
      "metadata": {
        "colab": {
          "base_uri": "https://localhost:8080/"
        },
        "id": "0y9_a0XoDB5W",
        "outputId": "b2fbbfa5-82b4-4922-8de9-67146bc9f98d"
      },
      "outputs": [
        {
          "name": "stdout",
          "output_type": "stream",
          "text": [
            "Model: \"sequential_5\"\n",
            "_________________________________________________________________\n",
            " Layer (type)                Output Shape              Param #   \n",
            "=================================================================\n",
            " conv2d_7 (Conv2D)           (None, 28, 28, 8)         80        \n",
            "                                                                 \n",
            " max_pooling2d_7 (MaxPooling  (None, 14, 14, 8)        0         \n",
            " 2D)                                                             \n",
            "                                                                 \n",
            " conv2d_8 (Conv2D)           (None, 14, 14, 8)         584       \n",
            "                                                                 \n",
            " max_pooling2d_8 (MaxPooling  (None, 7, 7, 8)          0         \n",
            " 2D)                                                             \n",
            "                                                                 \n",
            " flatten_5 (Flatten)         (None, 392)               0         \n",
            "                                                                 \n",
            " dense_6 (Dense)             (None, 10)                3930      \n",
            "                                                                 \n",
            "=================================================================\n",
            "Total params: 4,594\n",
            "Trainable params: 4,594\n",
            "Non-trainable params: 0\n",
            "_________________________________________________________________\n"
          ]
        }
      ],
      "source": [
        "model_cnn2.summary()"
      ]
    },
    {
      "cell_type": "code",
      "execution_count": 64,
      "metadata": {
        "id": "aVWENGhuDEB8"
      },
      "outputs": [],
      "source": [
        "model_cnn2.compile(optimizer='adam', loss=loss_fn, metrics=['accuracy'])"
      ]
    },
    {
      "cell_type": "code",
      "execution_count": 65,
      "metadata": {
        "colab": {
          "base_uri": "https://localhost:8080/"
        },
        "id": "JwxkhL8tDVqz",
        "outputId": "67f29189-4229-406c-852c-3348a5b83d51"
      },
      "outputs": [
        {
          "name": "stdout",
          "output_type": "stream",
          "text": [
            "Epoch 1/10\n",
            "1594/1594 [==============================] - 6s 4ms/step - loss: 1.6847 - accuracy: 0.8497 - val_loss: 0.2021 - val_accuracy: 0.9418\n",
            "Epoch 2/10\n",
            "1594/1594 [==============================] - 6s 3ms/step - loss: 0.1797 - accuracy: 0.9476 - val_loss: 0.1346 - val_accuracy: 0.9609\n",
            "Epoch 3/10\n",
            "1594/1594 [==============================] - 6s 3ms/step - loss: 0.1272 - accuracy: 0.9611 - val_loss: 0.1065 - val_accuracy: 0.9699\n",
            "Epoch 4/10\n",
            "1594/1594 [==============================] - 6s 3ms/step - loss: 0.1025 - accuracy: 0.9686 - val_loss: 0.0867 - val_accuracy: 0.9752\n",
            "Epoch 5/10\n",
            "1594/1594 [==============================] - 6s 4ms/step - loss: 0.0862 - accuracy: 0.9733 - val_loss: 0.0917 - val_accuracy: 0.9740\n",
            "Epoch 6/10\n",
            "1594/1594 [==============================] - 6s 3ms/step - loss: 0.0749 - accuracy: 0.9760 - val_loss: 0.0944 - val_accuracy: 0.9724\n",
            "Epoch 7/10\n",
            "1594/1594 [==============================] - 6s 3ms/step - loss: 0.0678 - accuracy: 0.9788 - val_loss: 0.0739 - val_accuracy: 0.9798\n",
            "Epoch 8/10\n",
            "1594/1594 [==============================] - 6s 4ms/step - loss: 0.0614 - accuracy: 0.9808 - val_loss: 0.0719 - val_accuracy: 0.9780\n",
            "Epoch 9/10\n",
            "1594/1594 [==============================] - 7s 4ms/step - loss: 0.0569 - accuracy: 0.9819 - val_loss: 0.0795 - val_accuracy: 0.9783\n",
            "Epoch 10/10\n",
            "1594/1594 [==============================] - 6s 4ms/step - loss: 0.0542 - accuracy: 0.9825 - val_loss: 0.0848 - val_accuracy: 0.9799\n"
          ]
        }
      ],
      "source": [
        "history_cnn2 = model_cnn2.fit(x_tr, y_tr, epochs=10, validation_split=0.15)"
      ]
    },
    {
      "cell_type": "code",
      "execution_count": 67,
      "metadata": {
        "colab": {
          "base_uri": "https://localhost:8080/",
          "height": 282
        },
        "id": "YzybSoatDZkh",
        "outputId": "fee923af-3308-4b7b-81aa-19703cd74177"
      },
      "outputs": [
        {
          "data": {
            "text/plain": [
              "[<matplotlib.lines.Line2D at 0x7f45c03c83d0>]"
            ]
          },
          "execution_count": 67,
          "metadata": {},
          "output_type": "execute_result"
        },
        {
          "data": {
            "image/png": "[encoded data removed]",
            "text/plain": [
              "<Figure size 432x288 with 1 Axes>"
            ]
          },
          "metadata": {
            "needs_background": "light"
          },
          "output_type": "display_data"
        }
      ],
      "source": [
        "plt.plot(history.history['accuracy'])\n",
        "plt.plot(history_cnn.history['accuracy'])\n",
        "plt.plot(history_cnn2.history['accuracy'])"
      ]
    },
    {
      "cell_type": "code",
      "execution_count": 68,
      "metadata": {
        "colab": {
          "base_uri": "https://localhost:8080/"
        },
        "id": "uL5v_aTmDypG",
        "outputId": "924250d4-84aa-4ac9-833f-b2ce20ad80a5"
      },
      "outputs": [
        {
          "name": "stdout",
          "output_type": "stream",
          "text": [
            "313/313 [==============================] - 1s 2ms/step - loss: 0.3048 - accuracy: 0.9447\n",
            "[0.30484870076179504, 0.9447000026702881]\n",
            "313/313 [==============================] - 1s 2ms/step - loss: 0.2035 - accuracy: 0.9715\n",
            "[0.20346052944660187, 0.9714999794960022]\n",
            "313/313 [==============================] - 1s 2ms/step - loss: 0.0911 - accuracy: 0.9742\n",
            "[0.09110474586486816, 0.9742000102996826]\n"
          ]
        }
      ],
      "source": [
        "print(model.evaluate(x_test, y_test))\n",
        "print(model_cnn.evaluate(x_test, y_test))\n",
        "print(model_cnn2.evaluate(x_test, y_test))"
      ]
    },
    {
      "cell_type": "code",
      "execution_count": 72,
      "metadata": {
        "colab": {
          "base_uri": "https://localhost:8080/",
          "height": 282
        },
        "id": "Z4d6sM1cENJV",
        "outputId": "299e081e-b869-4c99-e580-5e7dc2801b3c"
      },
      "outputs": [
        {
          "data": {
            "text/plain": [
              "[<matplotlib.lines.Line2D at 0x7f45ce14f8b0>]"
            ]
          },
          "execution_count": 72,
          "metadata": {},
          "output_type": "execute_result"
        },
        {
          "data": {
            "image/png": "[encoded data removed]",
            "text/plain": [
              "<Figure size 432x288 with 1 Axes>"
            ]
          },
          "metadata": {
            "needs_background": "light"
          },
          "output_type": "display_data"
        }
      ],
      "source": [
        "plt.plot(history_cnn.history['accuracy'])\n",
        "plt.plot(history_cnn.history['val_accuracy'])"
      ]
    },
    {
      "cell_type": "code",
      "execution_count": 73,
      "metadata": {
        "id": "91C7OclsEeT9"
      },
      "outputs": [],
      "source": [
        "model_cnn_drop = tf.keras.models.Sequential()\n",
        "model_cnn_drop.add(tf.keras.layers.Conv2D(16, 3, padding='same', activation='relu', input_shape=(28, 28, 1)))\n",
        "model_cnn_drop.add(tf.keras.layers.MaxPool2D())\n",
        "model_cnn_drop.add(tf.keras.layers.Flatten())\n",
        "model_cnn_drop.add(tf.keras.layers.Dropout(0.5))\n",
        "model_cnn_drop.add(tf.keras.layers.Dense(10, activation='softmax'))"
      ]
    },
    {
      "cell_type": "code",
      "execution_count": 74,
      "metadata": {
        "id": "GiNqV8HeGEYH"
      },
      "outputs": [],
      "source": [
        "model_cnn_drop.compile(optimizer='adam', loss=loss_fn, metrics=['accuracy'])"
      ]
    },
    {
      "cell_type": "code",
      "execution_count": 76,
      "metadata": {
        "colab": {
          "base_uri": "https://localhost:8080/"
        },
        "id": "aC5WGW6vGMQG",
        "outputId": "c6424c02-05b1-4238-ad98-48dbd0e5f316"
      },
      "outputs": [
        {
          "name": "stdout",
          "output_type": "stream",
          "text": [
            "Epoch 1/10\n",
            "1594/1594 [==============================] - 5s 3ms/step - loss: 0.1334 - accuracy: 0.9599 - val_loss: 0.0780 - val_accuracy: 0.9792\n",
            "Epoch 2/10\n",
            "1594/1594 [==============================] - 5s 3ms/step - loss: 0.1357 - accuracy: 0.9599 - val_loss: 0.0852 - val_accuracy: 0.9781\n",
            "Epoch 3/10\n",
            "1594/1594 [==============================] - 6s 3ms/step - loss: 0.1310 - accuracy: 0.9615 - val_loss: 0.0745 - val_accuracy: 0.9810\n",
            "Epoch 4/10\n",
            "1594/1594 [==============================] - 6s 4ms/step - loss: 0.1268 - accuracy: 0.9616 - val_loss: 0.0824 - val_accuracy: 0.9777\n",
            "Epoch 5/10\n",
            "1594/1594 [==============================] - 7s 4ms/step - loss: 0.1290 - accuracy: 0.9623 - val_loss: 0.0852 - val_accuracy: 0.9792\n",
            "Epoch 6/10\n",
            "1594/1594 [==============================] - 5s 3ms/step - loss: 0.1316 - accuracy: 0.9613 - val_loss: 0.0761 - val_accuracy: 0.9791\n",
            "Epoch 7/10\n",
            "1594/1594 [==============================] - 5s 3ms/step - loss: 0.1254 - accuracy: 0.9629 - val_loss: 0.0845 - val_accuracy: 0.9781\n",
            "Epoch 8/10\n",
            "1594/1594 [==============================] - 5s 3ms/step - loss: 0.1286 - accuracy: 0.9613 - val_loss: 0.0809 - val_accuracy: 0.9782\n",
            "Epoch 9/10\n",
            "1594/1594 [==============================] - 5s 3ms/step - loss: 0.1292 - accuracy: 0.9616 - val_loss: 0.0777 - val_accuracy: 0.9800\n",
            "Epoch 10/10\n",
            "1594/1594 [==============================] - 5s 3ms/step - loss: 0.1264 - accuracy: 0.9628 - val_loss: 0.0894 - val_accuracy: 0.9791\n"
          ]
        }
      ],
      "source": [
        "history_cnn_drop = model_cnn_drop.fit(x_tr, y_tr, epochs=10, validation_split=0.15)"
      ]
    },
    {
      "cell_type": "code",
      "execution_count": 79,
      "metadata": {
        "colab": {
          "base_uri": "https://localhost:8080/",
          "height": 282
        },
        "id": "FS9EaDDgGSZe",
        "outputId": "a854a0dd-56bb-44e1-dc29-7eb10db4a278"
      },
      "outputs": [
        {
          "data": {
            "text/plain": [
              "[<matplotlib.lines.Line2D at 0x7f4566622430>]"
            ]
          },
          "execution_count": 79,
          "metadata": {},
          "output_type": "execute_result"
        },
        {
          "data": {
            "image/png": "[encoded data removed]",
            "text/plain": [
              "<Figure size 432x288 with 1 Axes>"
            ]
          },
          "metadata": {
            "needs_background": "light"
          },
          "output_type": "display_data"
        }
      ],
      "source": [
        "plt.plot(history_cnn_drop.history['accuracy'])\n",
        "plt.plot(history_cnn_drop.history['val_accuracy'])\n",
        "plt.plot(history_cnn.history['accuracy'])\n",
        "plt.plot(history_cnn.history['val_accuracy'])"
      ]
    },
    {
      "cell_type": "code",
      "execution_count": 78,
      "metadata": {
        "colab": {
          "base_uri": "https://localhost:8080/"
        },
        "id": "CzqKgYsvG4Dp",
        "outputId": "dfdcd927-5530-4daf-b333-a9fe5f6ca0fe"
      },
      "outputs": [
        {
          "name": "stdout",
          "output_type": "stream",
          "text": [
            "313/313 [==============================] - 1s 3ms/step - loss: 0.3048 - accuracy: 0.9447\n",
            "[0.30484870076179504, 0.9447000026702881]\n",
            "313/313 [==============================] - 1s 2ms/step - loss: 0.2035 - accuracy: 0.9715\n",
            "[0.20346052944660187, 0.9714999794960022]\n",
            "313/313 [==============================] - 1s 2ms/step - loss: 0.0911 - accuracy: 0.9742\n",
            "[0.09110474586486816, 0.9742000102996826]\n",
            "313/313 [==============================] - 1s 2ms/step - loss: 0.0894 - accuracy: 0.9790\n",
            "[0.0894138514995575, 0.9789999723434448]\n"
          ]
        }
      ],
      "source": [
        "print(model.evaluate(x_test, y_test))\n",
        "print(model_cnn.evaluate(x_test, y_test))\n",
        "print(model_cnn2.evaluate(x_test, y_test))\n",
        "print(model_cnn_drop.evaluate(x_test, y_test))"
      ]
    }
  ],
  "metadata": {
    "accelerator": "GPU",
    "colab": {
      "provenance": []
    },
    "gpuClass": "standard",
    "kernelspec": {
      "display_name": "Python 3",
      "name": "python3"
    },
    "language_info": {
      "name": "python"
    }
  },
  "nbformat": 4,
  "nbformat_minor": 0
}
